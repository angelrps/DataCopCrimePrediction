{
 "cells": [
  {
   "cell_type": "markdown",
   "metadata": {},
   "source": [
    "# City and Distrcits"
   ]
  },
  {
   "cell_type": "markdown",
   "metadata": {},
   "source": [
    "### 1.  Loading Libraries"
   ]
  },
  {
   "cell_type": "code",
   "execution_count": 1,
   "metadata": {},
   "outputs": [],
   "source": [
    "import numpy as np\n",
    "import pandas as pd\n",
    "import matplotlib.pyplot as plt\n",
    "%matplotlib inline\n",
    "pd.set_option('display.max_columns', 500)\n",
    "pd.set_option('display.max_rows', 500)"
   ]
  },
  {
   "cell_type": "markdown",
   "metadata": {},
   "source": [
    "### 2. Reading the Dataset <a id='2'></a>\n",
    "\n",
    "- DC_Dist:             District \tA two character field that names the District boundary. \t                        Text\n",
    "- DC_Key:              DC Number \tThe unique identifier of the crime that consists of Year + District + Unique ID. \tText\n",
    "- Dispatch_Date_Time:  Dispatch Date/Time \tThe date and time that the officer was dispatched to the scene. \t        Date/Time\n",
    "- Hour:          \t   The generalized hour of the dispatched time. \t                                                Date/Time\n",
    "- Location_Block: \t   Location Block \tThe location of crime generalized by street block. \t                            Text\n",
    "- Sector:    \t       PSA \tA single character field that names the Police Service Area boundary. \t                    Text\n",
    "- Text_General_Code:   General Crime Category \tThe generalized text for the crime code. \t                            Text\n",
    "- UCR_General: \t       UCR Code \tThe rounded crime code, i.e. 614 to 600.\n"
   ]
  },
  {
   "cell_type": "code",
   "execution_count": 2,
   "metadata": {},
   "outputs": [
    {
     "data": {
      "text/html": [
       "<div>\n",
       "<style scoped>\n",
       "    .dataframe tbody tr th:only-of-type {\n",
       "        vertical-align: middle;\n",
       "    }\n",
       "\n",
       "    .dataframe tbody tr th {\n",
       "        vertical-align: top;\n",
       "    }\n",
       "\n",
       "    .dataframe thead th {\n",
       "        text-align: right;\n",
       "    }\n",
       "</style>\n",
       "<table border=\"1\" class=\"dataframe\">\n",
       "  <thead>\n",
       "    <tr style=\"text-align: right;\">\n",
       "      <th></th>\n",
       "      <th>dispatch_time</th>\n",
       "      <th>dc_dist</th>\n",
       "      <th>psa</th>\n",
       "      <th>location_block</th>\n",
       "      <th>ucr_general</th>\n",
       "      <th>text_general_code</th>\n",
       "      <th>point_x</th>\n",
       "      <th>point_y</th>\n",
       "    </tr>\n",
       "    <tr>\n",
       "      <th>dispatch_date</th>\n",
       "      <th></th>\n",
       "      <th></th>\n",
       "      <th></th>\n",
       "      <th></th>\n",
       "      <th></th>\n",
       "      <th></th>\n",
       "      <th></th>\n",
       "      <th></th>\n",
       "    </tr>\n",
       "  </thead>\n",
       "  <tbody>\n",
       "    <tr>\n",
       "      <th>2015-12-17</th>\n",
       "      <td>07:26:00</td>\n",
       "      <td>1</td>\n",
       "      <td>1</td>\n",
       "      <td>1800 BLOCK S CHADWICK ST</td>\n",
       "      <td>1400.0</td>\n",
       "      <td>Vandalism/Criminal Mischief</td>\n",
       "      <td>-75.173172</td>\n",
       "      <td>39.928303</td>\n",
       "    </tr>\n",
       "    <tr>\n",
       "      <th>2015-12-17</th>\n",
       "      <td>11:04:00</td>\n",
       "      <td>1</td>\n",
       "      <td>1</td>\n",
       "      <td>1500 BLOCK MC KEAN ST</td>\n",
       "      <td>1400.0</td>\n",
       "      <td>Vandalism/Criminal Mischief</td>\n",
       "      <td>-75.172603</td>\n",
       "      <td>39.925975</td>\n",
       "    </tr>\n",
       "    <tr>\n",
       "      <th>2015-12-18</th>\n",
       "      <td>22:55:00</td>\n",
       "      <td>1</td>\n",
       "      <td>1</td>\n",
       "      <td>2200 BLOCK S 17TH ST</td>\n",
       "      <td>1400.0</td>\n",
       "      <td>Vandalism/Criminal Mischief</td>\n",
       "      <td>-75.175081</td>\n",
       "      <td>39.922675</td>\n",
       "    </tr>\n",
       "    <tr>\n",
       "      <th>2015-12-19</th>\n",
       "      <td>00:54:00</td>\n",
       "      <td>1</td>\n",
       "      <td>1</td>\n",
       "      <td>2200 BLOCK S 17TH ST</td>\n",
       "      <td>1400.0</td>\n",
       "      <td>Vandalism/Criminal Mischief</td>\n",
       "      <td>-75.174745</td>\n",
       "      <td>39.923722</td>\n",
       "    </tr>\n",
       "    <tr>\n",
       "      <th>2015-12-20</th>\n",
       "      <td>01:07:00</td>\n",
       "      <td>1</td>\n",
       "      <td>1</td>\n",
       "      <td>S 16TH ST / MC KEAN ST</td>\n",
       "      <td>1400.0</td>\n",
       "      <td>Vandalism/Criminal Mischief</td>\n",
       "      <td>-75.172683</td>\n",
       "      <td>39.926027</td>\n",
       "    </tr>\n",
       "  </tbody>\n",
       "</table>\n",
       "</div>"
      ],
      "text/plain": [
       "              dispatch_time  dc_dist psa            location_block  \\\n",
       "dispatch_date                                                        \n",
       "2015-12-17         07:26:00        1   1  1800 BLOCK S CHADWICK ST   \n",
       "2015-12-17         11:04:00        1   1     1500 BLOCK MC KEAN ST   \n",
       "2015-12-18         22:55:00        1   1      2200 BLOCK S 17TH ST   \n",
       "2015-12-19         00:54:00        1   1      2200 BLOCK S 17TH ST   \n",
       "2015-12-20         01:07:00        1   1    S 16TH ST / MC KEAN ST   \n",
       "\n",
       "               ucr_general            text_general_code    point_x    point_y  \n",
       "dispatch_date                                                                  \n",
       "2015-12-17          1400.0  Vandalism/Criminal Mischief -75.173172  39.928303  \n",
       "2015-12-17          1400.0  Vandalism/Criminal Mischief -75.172603  39.925975  \n",
       "2015-12-18          1400.0  Vandalism/Criminal Mischief -75.175081  39.922675  \n",
       "2015-12-19          1400.0  Vandalism/Criminal Mischief -75.174745  39.923722  \n",
       "2015-12-20          1400.0  Vandalism/Criminal Mischief -75.172683  39.926027  "
      ]
     },
     "execution_count": 2,
     "metadata": {},
     "output_type": "execute_result"
    }
   ],
   "source": [
    "path = '/home/eduardo/Desktop/Proyecto/Philadelphia/'\n",
    "file = 'crime_philadelphia_20062019.csv'\n",
    "\n",
    "data = pd.read_csv(path+file,index_col='dispatch_date',parse_dates=True, usecols=['dispatch_date','dispatch_time','dc_dist','psa','location_block','ucr_general','text_general_code','point_x','point_y'])\n",
    "data.head()"
   ]
  },
  {
   "cell_type": "code",
   "execution_count": 3,
   "metadata": {},
   "outputs": [
    {
     "data": {
      "text/plain": [
       "dispatch_time            0\n",
       "dc_dist                  0\n",
       "psa                      0\n",
       "location_block           0\n",
       "ucr_general           1685\n",
       "text_general_code     1685\n",
       "point_x              20280\n",
       "point_y              20280\n",
       "dtype: int64"
      ]
     },
     "execution_count": 3,
     "metadata": {},
     "output_type": "execute_result"
    }
   ],
   "source": [
    "data.isnull().sum()"
   ]
  },
  {
   "cell_type": "markdown",
   "metadata": {},
   "source": [
    "### 3. City and Districts Dataset <a id='3'></a>"
   ]
  },
  {
   "cell_type": "code",
   "execution_count": 4,
   "metadata": {},
   "outputs": [],
   "source": [
    "# List of Philadelphia Distrcists\n",
    "districts = data['dc_dist'].unique().tolist()"
   ]
  },
  {
   "cell_type": "code",
   "execution_count": 5,
   "metadata": {},
   "outputs": [],
   "source": [
    "# Creating new DF\n",
    "df = pd.DataFrame()"
   ]
  },
  {
   "cell_type": "code",
   "execution_count": 6,
   "metadata": {},
   "outputs": [],
   "source": [
    "# City Column\n",
    "df['city'] = data.groupby(pd.Grouper(freq=\"M\"))['dc_dist'].count()"
   ]
  },
  {
   "cell_type": "code",
   "execution_count": 7,
   "metadata": {},
   "outputs": [],
   "source": [
    "# District Columns\n",
    "for dist in districts:\n",
    "    dis_str = str(dist)\n",
    "    df['dist_'+ dis_str] = data[data['dc_dist'] == dist].groupby(pd.Grouper(freq=\"M\"))['dc_dist'].count()"
   ]
  },
  {
   "cell_type": "code",
   "execution_count": 8,
   "metadata": {},
   "outputs": [],
   "source": [
    "# Remove the last month\n",
    "df = df.iloc[:(len(df)-1)]"
   ]
  },
  {
   "cell_type": "code",
   "execution_count": 9,
   "metadata": {},
   "outputs": [
    {
     "data": {
      "text/plain": [
       "city         0\n",
       "dist_1       0\n",
       "dist_2       0\n",
       "dist_18      0\n",
       "dist_77      0\n",
       "dist_3       0\n",
       "dist_5       0\n",
       "dist_6       0\n",
       "dist_14      0\n",
       "dist_17      0\n",
       "dist_7       0\n",
       "dist_8       0\n",
       "dist_9       0\n",
       "dist_16      0\n",
       "dist_15      0\n",
       "dist_22      0\n",
       "dist_24      0\n",
       "dist_12      0\n",
       "dist_19      0\n",
       "dist_35      0\n",
       "dist_25      0\n",
       "dist_26      0\n",
       "dist_39      0\n",
       "dist_4      34\n",
       "dist_23     74\n",
       "dist_92    120\n",
       "dtype: int64"
      ]
     },
     "execution_count": 9,
     "metadata": {},
     "output_type": "execute_result"
    }
   ],
   "source": [
    "df.isnull().sum()"
   ]
  },
  {
   "cell_type": "code",
   "execution_count": 10,
   "metadata": {},
   "outputs": [],
   "source": [
    "# Removing some columns with na values\n",
    "cols_to_drop = ['dist_4','dist_23','dist_92']\n",
    "df.drop(columns=cols_to_drop,inplace=True)"
   ]
  },
  {
   "cell_type": "code",
   "execution_count": 11,
   "metadata": {},
   "outputs": [
    {
     "data": {
      "text/html": [
       "<div>\n",
       "<style scoped>\n",
       "    .dataframe tbody tr th:only-of-type {\n",
       "        vertical-align: middle;\n",
       "    }\n",
       "\n",
       "    .dataframe tbody tr th {\n",
       "        vertical-align: top;\n",
       "    }\n",
       "\n",
       "    .dataframe thead th {\n",
       "        text-align: right;\n",
       "    }\n",
       "</style>\n",
       "<table border=\"1\" class=\"dataframe\">\n",
       "  <thead>\n",
       "    <tr style=\"text-align: right;\">\n",
       "      <th></th>\n",
       "      <th>city</th>\n",
       "      <th>dist_1</th>\n",
       "      <th>dist_2</th>\n",
       "      <th>dist_18</th>\n",
       "      <th>dist_77</th>\n",
       "      <th>dist_3</th>\n",
       "      <th>dist_5</th>\n",
       "      <th>dist_6</th>\n",
       "      <th>dist_14</th>\n",
       "      <th>dist_17</th>\n",
       "      <th>dist_7</th>\n",
       "      <th>dist_8</th>\n",
       "      <th>dist_9</th>\n",
       "      <th>dist_16</th>\n",
       "      <th>dist_15</th>\n",
       "      <th>dist_22</th>\n",
       "      <th>dist_24</th>\n",
       "      <th>dist_12</th>\n",
       "      <th>dist_19</th>\n",
       "      <th>dist_35</th>\n",
       "      <th>dist_25</th>\n",
       "      <th>dist_26</th>\n",
       "      <th>dist_39</th>\n",
       "    </tr>\n",
       "    <tr>\n",
       "      <th>dispatch_date</th>\n",
       "      <th></th>\n",
       "      <th></th>\n",
       "      <th></th>\n",
       "      <th></th>\n",
       "      <th></th>\n",
       "      <th></th>\n",
       "      <th></th>\n",
       "      <th></th>\n",
       "      <th></th>\n",
       "      <th></th>\n",
       "      <th></th>\n",
       "      <th></th>\n",
       "      <th></th>\n",
       "      <th></th>\n",
       "      <th></th>\n",
       "      <th></th>\n",
       "      <th></th>\n",
       "      <th></th>\n",
       "      <th></th>\n",
       "      <th></th>\n",
       "      <th></th>\n",
       "      <th></th>\n",
       "      <th></th>\n",
       "    </tr>\n",
       "  </thead>\n",
       "  <tbody>\n",
       "    <tr>\n",
       "      <th>2006-01-31</th>\n",
       "      <td>19359</td>\n",
       "      <td>512</td>\n",
       "      <td>794</td>\n",
       "      <td>898</td>\n",
       "      <td>62</td>\n",
       "      <td>468</td>\n",
       "      <td>290</td>\n",
       "      <td>899</td>\n",
       "      <td>1134</td>\n",
       "      <td>642</td>\n",
       "      <td>362</td>\n",
       "      <td>681</td>\n",
       "      <td>638</td>\n",
       "      <td>568</td>\n",
       "      <td>1410</td>\n",
       "      <td>804</td>\n",
       "      <td>1341</td>\n",
       "      <td>1126</td>\n",
       "      <td>1066</td>\n",
       "      <td>1188</td>\n",
       "      <td>1532</td>\n",
       "      <td>701</td>\n",
       "      <td>910</td>\n",
       "    </tr>\n",
       "    <tr>\n",
       "      <th>2006-02-28</th>\n",
       "      <td>15894</td>\n",
       "      <td>385</td>\n",
       "      <td>712</td>\n",
       "      <td>676</td>\n",
       "      <td>52</td>\n",
       "      <td>444</td>\n",
       "      <td>283</td>\n",
       "      <td>723</td>\n",
       "      <td>830</td>\n",
       "      <td>572</td>\n",
       "      <td>325</td>\n",
       "      <td>654</td>\n",
       "      <td>518</td>\n",
       "      <td>440</td>\n",
       "      <td>1205</td>\n",
       "      <td>649</td>\n",
       "      <td>1027</td>\n",
       "      <td>863</td>\n",
       "      <td>894</td>\n",
       "      <td>1003</td>\n",
       "      <td>1352</td>\n",
       "      <td>572</td>\n",
       "      <td>662</td>\n",
       "    </tr>\n",
       "    <tr>\n",
       "      <th>2006-03-31</th>\n",
       "      <td>18627</td>\n",
       "      <td>561</td>\n",
       "      <td>817</td>\n",
       "      <td>771</td>\n",
       "      <td>61</td>\n",
       "      <td>533</td>\n",
       "      <td>257</td>\n",
       "      <td>777</td>\n",
       "      <td>1008</td>\n",
       "      <td>664</td>\n",
       "      <td>335</td>\n",
       "      <td>623</td>\n",
       "      <td>683</td>\n",
       "      <td>607</td>\n",
       "      <td>1368</td>\n",
       "      <td>741</td>\n",
       "      <td>1306</td>\n",
       "      <td>1076</td>\n",
       "      <td>954</td>\n",
       "      <td>1111</td>\n",
       "      <td>1678</td>\n",
       "      <td>659</td>\n",
       "      <td>792</td>\n",
       "    </tr>\n",
       "    <tr>\n",
       "      <th>2006-04-30</th>\n",
       "      <td>18940</td>\n",
       "      <td>466</td>\n",
       "      <td>922</td>\n",
       "      <td>843</td>\n",
       "      <td>49</td>\n",
       "      <td>565</td>\n",
       "      <td>282</td>\n",
       "      <td>759</td>\n",
       "      <td>1025</td>\n",
       "      <td>766</td>\n",
       "      <td>389</td>\n",
       "      <td>598</td>\n",
       "      <td>657</td>\n",
       "      <td>594</td>\n",
       "      <td>1367</td>\n",
       "      <td>767</td>\n",
       "      <td>1325</td>\n",
       "      <td>1126</td>\n",
       "      <td>941</td>\n",
       "      <td>1126</td>\n",
       "      <td>1578</td>\n",
       "      <td>776</td>\n",
       "      <td>721</td>\n",
       "    </tr>\n",
       "    <tr>\n",
       "      <th>2006-05-31</th>\n",
       "      <td>20041</td>\n",
       "      <td>458</td>\n",
       "      <td>1029</td>\n",
       "      <td>918</td>\n",
       "      <td>62</td>\n",
       "      <td>509</td>\n",
       "      <td>259</td>\n",
       "      <td>867</td>\n",
       "      <td>1100</td>\n",
       "      <td>778</td>\n",
       "      <td>428</td>\n",
       "      <td>664</td>\n",
       "      <td>747</td>\n",
       "      <td>648</td>\n",
       "      <td>1391</td>\n",
       "      <td>837</td>\n",
       "      <td>1259</td>\n",
       "      <td>1164</td>\n",
       "      <td>1038</td>\n",
       "      <td>1242</td>\n",
       "      <td>1642</td>\n",
       "      <td>796</td>\n",
       "      <td>833</td>\n",
       "    </tr>\n",
       "  </tbody>\n",
       "</table>\n",
       "</div>"
      ],
      "text/plain": [
       "                city  dist_1  dist_2  dist_18  dist_77  dist_3  dist_5  \\\n",
       "dispatch_date                                                            \n",
       "2006-01-31     19359     512     794      898       62     468     290   \n",
       "2006-02-28     15894     385     712      676       52     444     283   \n",
       "2006-03-31     18627     561     817      771       61     533     257   \n",
       "2006-04-30     18940     466     922      843       49     565     282   \n",
       "2006-05-31     20041     458    1029      918       62     509     259   \n",
       "\n",
       "               dist_6  dist_14  dist_17  dist_7  dist_8  dist_9  dist_16  \\\n",
       "dispatch_date                                                              \n",
       "2006-01-31        899     1134      642     362     681     638      568   \n",
       "2006-02-28        723      830      572     325     654     518      440   \n",
       "2006-03-31        777     1008      664     335     623     683      607   \n",
       "2006-04-30        759     1025      766     389     598     657      594   \n",
       "2006-05-31        867     1100      778     428     664     747      648   \n",
       "\n",
       "               dist_15  dist_22  dist_24  dist_12  dist_19  dist_35  dist_25  \\\n",
       "dispatch_date                                                                  \n",
       "2006-01-31        1410      804     1341     1126     1066     1188     1532   \n",
       "2006-02-28        1205      649     1027      863      894     1003     1352   \n",
       "2006-03-31        1368      741     1306     1076      954     1111     1678   \n",
       "2006-04-30        1367      767     1325     1126      941     1126     1578   \n",
       "2006-05-31        1391      837     1259     1164     1038     1242     1642   \n",
       "\n",
       "               dist_26  dist_39  \n",
       "dispatch_date                    \n",
       "2006-01-31         701      910  \n",
       "2006-02-28         572      662  \n",
       "2006-03-31         659      792  \n",
       "2006-04-30         776      721  \n",
       "2006-05-31         796      833  "
      ]
     },
     "execution_count": 11,
     "metadata": {},
     "output_type": "execute_result"
    }
   ],
   "source": [
    "df.head()"
   ]
  },
  {
   "cell_type": "code",
   "execution_count": 12,
   "metadata": {},
   "outputs": [
    {
     "data": {
      "image/png": "[encoded data removed]",
      "text/plain": [
       "<Figure size 864x432 with 1 Axes>"
      ]
     },
     "metadata": {
      "needs_background": "light"
     },
     "output_type": "display_data"
    }
   ],
   "source": [
    "ax = df['city'].plot(figsize=(12,6),grid=True)\n",
    "ax.set(xlabel='Date',ylabel='Incidents',title='City of Philadelphia');"
   ]
  },
  {
   "cell_type": "code",
   "execution_count": 13,
   "metadata": {},
   "outputs": [],
   "source": [
    "df.to_csv('../data/CSV/city_districts.csv')"
   ]
  }
 ],
 "metadata": {
  "kernelspec": {
   "display_name": "Python 3",
   "language": "python",
   "name": "python3"
  },
  "language_info": {
   "codemirror_mode": {
    "name": "ipython",
    "version": 3
   },
   "file_extension": ".py",
   "mimetype": "text/x-python",
   "name": "python",
   "nbconvert_exporter": "python",
   "pygments_lexer": "ipython3",
   "version": "3.6.7"
  }
 },
 "nbformat": 4,
 "nbformat_minor": 2
}
