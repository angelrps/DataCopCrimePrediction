{
 "cells": [
  {
   "cell_type": "markdown",
   "metadata": {},
   "source": [
    "# Join our Results"
   ]
  },
  {
   "cell_type": "markdown",
   "metadata": {},
   "source": [
    "### 1. Loading Libraries"
   ]
  },
  {
   "cell_type": "code",
   "execution_count": 6,
   "metadata": {},
   "outputs": [],
   "source": [
    "import numpy as np\n",
    "import pandas as pd\n",
    "import matplotlib.pyplot as plt\n",
    "import seaborn as sns\n",
    "%matplotlib inline"
   ]
  },
  {
   "cell_type": "markdown",
   "metadata": {},
   "source": [
    "### 2. Loading Files"
   ]
  },
  {
   "cell_type": "code",
   "execution_count": 16,
   "metadata": {},
   "outputs": [],
   "source": [
    "sarima = pd.read_csv('../data/CSV/SarimaForecast_allDistricts_Tableau.csv',index_col=0)\n",
    "prophet = pd.read_csv('../data/CSV/ProphetForecast_allDistricts_Tableau.csv',index_col=0)\n",
    "# keras"
   ]
  },
  {
   "cell_type": "code",
   "execution_count": 17,
   "metadata": {},
   "outputs": [
    {
     "data": {
      "text/html": [
       "<div>\n",
       "<style scoped>\n",
       "    .dataframe tbody tr th:only-of-type {\n",
       "        vertical-align: middle;\n",
       "    }\n",
       "\n",
       "    .dataframe tbody tr th {\n",
       "        vertical-align: top;\n",
       "    }\n",
       "\n",
       "    .dataframe thead th {\n",
       "        text-align: right;\n",
       "    }\n",
       "</style>\n",
       "<table border=\"1\" class=\"dataframe\">\n",
       "  <thead>\n",
       "    <tr style=\"text-align: right;\">\n",
       "      <th></th>\n",
       "      <th>values</th>\n",
       "      <th>district</th>\n",
       "      <th>type</th>\n",
       "      <th>model</th>\n",
       "      <th>DISTRICT_</th>\n",
       "    </tr>\n",
       "  </thead>\n",
       "  <tbody>\n",
       "    <tr>\n",
       "      <th>2006-01-31</th>\n",
       "      <td>19359.0</td>\n",
       "      <td>city</td>\n",
       "      <td>Time Series</td>\n",
       "      <td>sarima</td>\n",
       "      <td>0</td>\n",
       "    </tr>\n",
       "    <tr>\n",
       "      <th>2006-02-28</th>\n",
       "      <td>15894.0</td>\n",
       "      <td>city</td>\n",
       "      <td>Time Series</td>\n",
       "      <td>sarima</td>\n",
       "      <td>0</td>\n",
       "    </tr>\n",
       "    <tr>\n",
       "      <th>2006-03-31</th>\n",
       "      <td>18627.0</td>\n",
       "      <td>city</td>\n",
       "      <td>Time Series</td>\n",
       "      <td>sarima</td>\n",
       "      <td>0</td>\n",
       "    </tr>\n",
       "    <tr>\n",
       "      <th>2006-04-30</th>\n",
       "      <td>18940.0</td>\n",
       "      <td>city</td>\n",
       "      <td>Time Series</td>\n",
       "      <td>sarima</td>\n",
       "      <td>0</td>\n",
       "    </tr>\n",
       "    <tr>\n",
       "      <th>2006-05-31</th>\n",
       "      <td>20041.0</td>\n",
       "      <td>city</td>\n",
       "      <td>Time Series</td>\n",
       "      <td>sarima</td>\n",
       "      <td>0</td>\n",
       "    </tr>\n",
       "  </tbody>\n",
       "</table>\n",
       "</div>"
      ],
      "text/plain": [
       "             values district         type   model  DISTRICT_\n",
       "2006-01-31  19359.0     city  Time Series  sarima          0\n",
       "2006-02-28  15894.0     city  Time Series  sarima          0\n",
       "2006-03-31  18627.0     city  Time Series  sarima          0\n",
       "2006-04-30  18940.0     city  Time Series  sarima          0\n",
       "2006-05-31  20041.0     city  Time Series  sarima          0"
      ]
     },
     "execution_count": 17,
     "metadata": {},
     "output_type": "execute_result"
    }
   ],
   "source": [
    "sarima.head()"
   ]
  },
  {
   "cell_type": "code",
   "execution_count": 18,
   "metadata": {},
   "outputs": [
    {
     "data": {
      "text/html": [
       "<div>\n",
       "<style scoped>\n",
       "    .dataframe tbody tr th:only-of-type {\n",
       "        vertical-align: middle;\n",
       "    }\n",
       "\n",
       "    .dataframe tbody tr th {\n",
       "        vertical-align: top;\n",
       "    }\n",
       "\n",
       "    .dataframe thead th {\n",
       "        text-align: right;\n",
       "    }\n",
       "</style>\n",
       "<table border=\"1\" class=\"dataframe\">\n",
       "  <thead>\n",
       "    <tr style=\"text-align: right;\">\n",
       "      <th></th>\n",
       "      <th>values</th>\n",
       "      <th>district</th>\n",
       "      <th>type</th>\n",
       "      <th>model</th>\n",
       "      <th>DISTRICT_</th>\n",
       "    </tr>\n",
       "    <tr>\n",
       "      <th>ds</th>\n",
       "      <th></th>\n",
       "      <th></th>\n",
       "      <th></th>\n",
       "      <th></th>\n",
       "      <th></th>\n",
       "    </tr>\n",
       "  </thead>\n",
       "  <tbody>\n",
       "    <tr>\n",
       "      <th>2006-01-31</th>\n",
       "      <td>19359.0</td>\n",
       "      <td>city</td>\n",
       "      <td>Time Series</td>\n",
       "      <td>prophet</td>\n",
       "      <td>0</td>\n",
       "    </tr>\n",
       "    <tr>\n",
       "      <th>2006-02-28</th>\n",
       "      <td>15894.0</td>\n",
       "      <td>city</td>\n",
       "      <td>Time Series</td>\n",
       "      <td>prophet</td>\n",
       "      <td>0</td>\n",
       "    </tr>\n",
       "    <tr>\n",
       "      <th>2006-03-31</th>\n",
       "      <td>18627.0</td>\n",
       "      <td>city</td>\n",
       "      <td>Time Series</td>\n",
       "      <td>prophet</td>\n",
       "      <td>0</td>\n",
       "    </tr>\n",
       "    <tr>\n",
       "      <th>2006-04-30</th>\n",
       "      <td>18940.0</td>\n",
       "      <td>city</td>\n",
       "      <td>Time Series</td>\n",
       "      <td>prophet</td>\n",
       "      <td>0</td>\n",
       "    </tr>\n",
       "    <tr>\n",
       "      <th>2006-05-31</th>\n",
       "      <td>20041.0</td>\n",
       "      <td>city</td>\n",
       "      <td>Time Series</td>\n",
       "      <td>prophet</td>\n",
       "      <td>0</td>\n",
       "    </tr>\n",
       "  </tbody>\n",
       "</table>\n",
       "</div>"
      ],
      "text/plain": [
       "             values district         type    model  DISTRICT_\n",
       "ds                                                           \n",
       "2006-01-31  19359.0     city  Time Series  prophet          0\n",
       "2006-02-28  15894.0     city  Time Series  prophet          0\n",
       "2006-03-31  18627.0     city  Time Series  prophet          0\n",
       "2006-04-30  18940.0     city  Time Series  prophet          0\n",
       "2006-05-31  20041.0     city  Time Series  prophet          0"
      ]
     },
     "execution_count": 18,
     "metadata": {},
     "output_type": "execute_result"
    }
   ],
   "source": [
    "prophet.head()"
   ]
  },
  {
   "cell_type": "markdown",
   "metadata": {},
   "source": [
    "### 3. Append DataFrames"
   ]
  },
  {
   "cell_type": "code",
   "execution_count": 19,
   "metadata": {},
   "outputs": [],
   "source": [
    "models = sarima.append(prophet)"
   ]
  },
  {
   "cell_type": "code",
   "execution_count": 20,
   "metadata": {},
   "outputs": [
    {
     "data": {
      "text/html": [
       "<div>\n",
       "<style scoped>\n",
       "    .dataframe tbody tr th:only-of-type {\n",
       "        vertical-align: middle;\n",
       "    }\n",
       "\n",
       "    .dataframe tbody tr th {\n",
       "        vertical-align: top;\n",
       "    }\n",
       "\n",
       "    .dataframe thead th {\n",
       "        text-align: right;\n",
       "    }\n",
       "</style>\n",
       "<table border=\"1\" class=\"dataframe\">\n",
       "  <thead>\n",
       "    <tr style=\"text-align: right;\">\n",
       "      <th></th>\n",
       "      <th>values</th>\n",
       "      <th>district</th>\n",
       "      <th>type</th>\n",
       "      <th>model</th>\n",
       "      <th>DISTRICT_</th>\n",
       "    </tr>\n",
       "  </thead>\n",
       "  <tbody>\n",
       "    <tr>\n",
       "      <th>2006-01-31</th>\n",
       "      <td>19359.0</td>\n",
       "      <td>city</td>\n",
       "      <td>Time Series</td>\n",
       "      <td>sarima</td>\n",
       "      <td>0</td>\n",
       "    </tr>\n",
       "    <tr>\n",
       "      <th>2006-02-28</th>\n",
       "      <td>15894.0</td>\n",
       "      <td>city</td>\n",
       "      <td>Time Series</td>\n",
       "      <td>sarima</td>\n",
       "      <td>0</td>\n",
       "    </tr>\n",
       "    <tr>\n",
       "      <th>2006-03-31</th>\n",
       "      <td>18627.0</td>\n",
       "      <td>city</td>\n",
       "      <td>Time Series</td>\n",
       "      <td>sarima</td>\n",
       "      <td>0</td>\n",
       "    </tr>\n",
       "    <tr>\n",
       "      <th>2006-04-30</th>\n",
       "      <td>18940.0</td>\n",
       "      <td>city</td>\n",
       "      <td>Time Series</td>\n",
       "      <td>sarima</td>\n",
       "      <td>0</td>\n",
       "    </tr>\n",
       "    <tr>\n",
       "      <th>2006-05-31</th>\n",
       "      <td>20041.0</td>\n",
       "      <td>city</td>\n",
       "      <td>Time Series</td>\n",
       "      <td>sarima</td>\n",
       "      <td>0</td>\n",
       "    </tr>\n",
       "  </tbody>\n",
       "</table>\n",
       "</div>"
      ],
      "text/plain": [
       "             values district         type   model  DISTRICT_\n",
       "2006-01-31  19359.0     city  Time Series  sarima          0\n",
       "2006-02-28  15894.0     city  Time Series  sarima          0\n",
       "2006-03-31  18627.0     city  Time Series  sarima          0\n",
       "2006-04-30  18940.0     city  Time Series  sarima          0\n",
       "2006-05-31  20041.0     city  Time Series  sarima          0"
      ]
     },
     "execution_count": 20,
     "metadata": {},
     "output_type": "execute_result"
    }
   ],
   "source": [
    "models.head()"
   ]
  },
  {
   "cell_type": "markdown",
   "metadata": {},
   "source": [
    "### 4. Save File"
   ]
  },
  {
   "cell_type": "code",
   "execution_count": 23,
   "metadata": {},
   "outputs": [],
   "source": [
    "models.to_csv('../data/CSV/models_allDistricts_Tableau.csv')"
   ]
  }
 ],
 "metadata": {
  "kernelspec": {
   "display_name": "Python 3",
   "language": "python",
   "name": "python3"
  },
  "language_info": {
   "codemirror_mode": {
    "name": "ipython",
    "version": 3
   },
   "file_extension": ".py",
   "mimetype": "text/x-python",
   "name": "python",
   "nbconvert_exporter": "python",
   "pygments_lexer": "ipython3",
   "version": "3.6.7"
  }
 },
 "nbformat": 4,
 "nbformat_minor": 2
}
